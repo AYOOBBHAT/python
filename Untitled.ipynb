{
 "cells": [
  {
   "cell_type": "code",
   "execution_count": 57,
   "id": "811b35c4-7c13-4f37-b6e3-6a203e127ee3",
   "metadata": {},
   "outputs": [
    {
     "name": "stderr",
     "output_type": "stream",
     "text": [
      "To https://github.com/AYOOBBHAT/python.git\n",
      " * [new branch]      main -> main\n"
     ]
    }
   ],
   "source": [
    "!git branch -M main\n",
    "!git push origin main\n"
   ]
  },
  {
   "cell_type": "code",
   "execution_count": 25,
   "id": "6dc601d8-c2f8-4ba7-aa26-edb353286f9b",
   "metadata": {},
   "outputs": [
    {
     "data": {
      "text/plain": [
       "\"\\nThis is a multi-line comment-like text.\\nIt won't be executed or used in the program\\nunless assigned to a variable.\\n\""
      ]
     },
     "execution_count": 25,
     "metadata": {},
     "output_type": "execute_result"
    }
   ],
   "source": [
    "'''\n",
    "This is a multi-line comment-like text.\n",
    "It won't be executed or used in the program\n",
    "unless assigned to a variable.\n",
    "'''\n"
   ]
  },
  {
   "cell_type": "code",
   "execution_count": null,
   "id": "68ba8b8f-b787-4e54-a60e-e73d8a33e9ca",
   "metadata": {},
   "outputs": [],
   "source": []
  },
  {
   "cell_type": "code",
   "execution_count": 35,
   "id": "f30e6773-8194-4c54-a0e6-02d59d57f05d",
   "metadata": {},
   "outputs": [
    {
     "name": "stdout",
     "output_type": "stream",
     "text": [
      "c\n"
     ]
    },
    {
     "data": {
      "text/plain": [
       "int"
      ]
     },
     "execution_count": 35,
     "metadata": {},
     "output_type": "execute_result"
    }
   ],
   "source": [
    "'''\n",
    "var deleclarition\n",
    "'''\n",
    "\n",
    "a=1.6\n",
    "b=10\n",
    "c=a+b\n",
    "print (\"c\")\n",
    "type(c)"
   ]
  },
  {
   "cell_type": "code",
   "execution_count": 37,
   "id": "79e32755-dc27-4252-ae59-05d6d7bffcd0",
   "metadata": {},
   "outputs": [
    {
     "data": {
      "text/plain": [
       "1"
      ]
     },
     "execution_count": 37,
     "metadata": {},
     "output_type": "execute_result"
    }
   ],
   "source": [
    "int(a)"
   ]
  },
  {
   "cell_type": "code",
   "execution_count": 45,
   "id": "4c6e89d7-875a-4635-b249-be3a61758fdb",
   "metadata": {},
   "outputs": [
    {
     "name": "stdout",
     "output_type": "stream",
     "text": [
      "the first name ayoob and last name bhat \n"
     ]
    }
   ],
   "source": [
    "#string formatting\n",
    "first_name=\"ayoob\"\n",
    "last_name=\"bhat\"\n",
    "\n",
    "print (\"the first name {} and last name {} \".format(first_name,last_name))"
   ]
  },
  {
   "cell_type": "code",
   "execution_count": 59,
   "id": "7b90c52d-05b9-490a-8c11-5b2767e6a3aa",
   "metadata": {},
   "outputs": [
    {
     "name": "stdin",
     "output_type": "stream",
     "text": [
      "enter a a\n"
     ]
    },
    {
     "data": {
      "text/plain": [
       "'a'"
      ]
     },
     "execution_count": 59,
     "metadata": {},
     "output_type": "execute_result"
    }
   ],
   "source": [
    "input (\"enter a\")"
   ]
  },
  {
   "cell_type": "code",
   "execution_count": 7,
   "id": "3e69ae52-ca05-4dca-a33e-1851b43bb08f",
   "metadata": {},
   "outputs": [
    {
     "name": "stdin",
     "output_type": "stream",
     "text": [
      "enter number 676\n"
     ]
    },
    {
     "name": "stdout",
     "output_type": "stream",
     "text": [
      "number is > than 100\n"
     ]
    }
   ],
   "source": [
    "#control flows\n",
    "\n",
    "value =input(\"enter number\")\n",
    "val_int=float(value)\n",
    "if (val_int >100):\n",
    "    print (\"number is > than 100\")\n",
    "\n",
    "\n"
   ]
  },
  {
   "cell_type": "code",
   "execution_count": 2,
   "id": "9e8336aa-49c4-48d9-9847-ec580df697fb",
   "metadata": {},
   "outputs": [
    {
     "name": "stdout",
     "output_type": "stream",
     "text": [
      "11\n"
     ]
    }
   ],
   "source": [
    "list =[1,2,3,4]\n",
    "sum1=1\n",
    "for i in list :\n",
    "    sum1+=i\n",
    "\n",
    "\n",
    "print (sum1)\n",
    "    "
   ]
  },
  {
   "cell_type": "code",
   "execution_count": null,
   "id": "ad63e37e-9f6c-4b59-9630-04c6225f2bc1",
   "metadata": {},
   "outputs": [],
   "source": [
    "\n",
    "!git add .\n",
    "\n",
    "!git commit -m \".\"\n",
    "!git push -u origin main\n"
   ]
  }
 ],
 "metadata": {
  "kernelspec": {
   "display_name": "Python 3 (ipykernel)",
   "language": "python",
   "name": "python3"
  },
  "language_info": {
   "codemirror_mode": {
    "name": "ipython",
    "version": 3
   },
   "file_extension": ".py",
   "mimetype": "text/x-python",
   "name": "python",
   "nbconvert_exporter": "python",
   "pygments_lexer": "ipython3",
   "version": "3.12.7"
  }
 },
 "nbformat": 4,
 "nbformat_minor": 5
}
